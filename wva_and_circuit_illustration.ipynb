{
 "cells": [
  {
   "cell_type": "code",
   "execution_count": 42,
   "id": "f5ac9038",
   "metadata": {},
   "outputs": [
    {
     "name": "stdout",
     "output_type": "stream",
     "text": [
      "Amplified Value: 1.8257418583505538\n",
      "Measurement results: {'00': 1020, '01': 4}\n"
     ]
    }
   ],
   "source": [
    "from qiskit import QuantumCircuit, QuantumRegister, ClassicalRegister, execute, Aer\n",
    "from qiskit.visualization import plot_bloch_multivector\n",
    "from qiskit.quantum_info import state_fidelity\n",
    "import random\n",
    "import math\n",
    "\n",
    "# Create a quantum circuit with two qubits and classical registers for measurement\n",
    "qr = QuantumRegister(2, 'q')\n",
    "cr = ClassicalRegister(2, 'c')\n",
    "qc = QuantumCircuit(qr, cr)\n",
    "\n",
    "# Apply a weak measurement to the first qubit\n",
    "# This weak measurement is represented as a rotation of θ degrees\n",
    "# We choose a weak measurement operator (Z-rotation) for demonstration\n",
    "theta = 0.1  # Angle of rotation\n",
    "qc.ry(theta, qr[0])\n",
    "\n",
    "# Measure the first qubit and store the result in a classical register\n",
    "qc.measure(qr[0], cr[0])\n",
    "# Apply post-measurement operations with probabilities p1 and p2\n",
    "p1 = 0.7  # Probability for outcome |0⟩\n",
    "p2 = 0.3  # Probability for outcome |1⟩\n",
    "\n",
    "# Calculate the amplified value\n",
    "amplified_value = theta / math.sqrt(p1) if cr[0] == '0' else 1 / math.sqrt(p2)\n",
    "\n",
    "# Apply an X-gate to the second qubit conditionally based on the amplified value\n",
    "qc.x(qr[1]).c_if(cr, 0) if cr[0] == '0' else qc.x(qr[1]).c_if(cr, 1)\n",
    "\n",
    "# Print the amplified value\n",
    "print(\"Amplified Value:\", amplified_value)\n",
    "\n",
    "# Visualize the Bloch vector of the first qubit after the weak measurement\n",
    "backend = Aer.get_backend('statevector_simulator')\n",
    "job = execute(qc, backend)\n",
    "result = job.result()\n",
    "statevector = result.get_statevector()\n",
    "plot_bloch_multivector(statevector)\n",
    "\n",
    "# Print the measurement results\n",
    "print(\"Measurement results:\", counts)"
   ]
  },
  {
   "cell_type": "code",
   "execution_count": 41,
   "id": "671c12e8",
   "metadata": {},
   "outputs": [
    {
     "data": {
      "text/html": [
       "<pre style=\"word-wrap: normal;white-space: pre;background: #fff0;line-height: 1.1;font-family: &quot;Courier New&quot;,Courier,monospace\">     ┌─────────┐┌─┐\n",
       "q_0: ┤ Ry(0.1) ├┤M├\n",
       "     └─────────┘└╥┘\n",
       "q_1: ────────────╫─\n",
       "                 ║ \n",
       "c: 2/════════════╩═\n",
       "                 0 </pre>"
      ],
      "text/plain": [
       "     ┌─────────┐┌─┐\n",
       "q_0: ┤ Ry(0.1) ├┤M├\n",
       "     └─────────┘└╥┘\n",
       "q_1: ────────────╫─\n",
       "                 ║ \n",
       "c: 2/════════════╩═\n",
       "                 0 "
      ]
     },
     "execution_count": 41,
     "metadata": {},
     "output_type": "execute_result"
    }
   ],
   "source": [
    "qc.draw()"
   ]
  }
 ],
 "metadata": {
  "kernelspec": {
   "display_name": "Python 3 (ipykernel)",
   "language": "python",
   "name": "python3"
  },
  "language_info": {
   "codemirror_mode": {
    "name": "ipython",
    "version": 3
   },
   "file_extension": ".py",
   "mimetype": "text/x-python",
   "name": "python",
   "nbconvert_exporter": "python",
   "pygments_lexer": "ipython3",
   "version": "3.9.13"
  }
 },
 "nbformat": 4,
 "nbformat_minor": 5
}
